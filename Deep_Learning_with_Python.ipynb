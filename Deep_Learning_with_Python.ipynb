{
 "cells": [
  {
   "cell_type": "code",
   "execution_count": null,
   "metadata": {
    "id": "ZCcpitc3rBkf"
   },
   "outputs": [],
   "source": [
    "import keras\n",
    "import numpy as np\n",
    "import pandas as pd"
   ]
  },
  {
   "cell_type": "code",
   "execution_count": null,
   "metadata": {
    "colab": {
     "base_uri": "https://localhost:8080/"
    },
    "id": "ln4yvYCJvOqv",
    "outputId": "c6bc2197-c8ac-4948-cbf2-fa0dfdc2581f"
   },
   "outputs": [
    {
     "name": "stdout",
     "output_type": "stream",
     "text": [
      "Downloading data from https://storage.googleapis.com/tensorflow/tf-keras-datasets/imdb.npz\n",
      "17465344/17464789 [==============================] - 0s 0us/step\n"
     ]
    },
    {
     "name": "stderr",
     "output_type": "stream",
     "text": [
      "<string>:6: VisibleDeprecationWarning: Creating an ndarray from ragged nested sequences (which is a list-or-tuple of lists-or-tuples-or ndarrays with different lengths or shapes) is deprecated. If you meant to do this, you must specify 'dtype=object' when creating the ndarray\n",
      "/usr/local/lib/python3.6/dist-packages/tensorflow/python/keras/datasets/imdb.py:159: VisibleDeprecationWarning: Creating an ndarray from ragged nested sequences (which is a list-or-tuple of lists-or-tuples-or ndarrays with different lengths or shapes) is deprecated. If you meant to do this, you must specify 'dtype=object' when creating the ndarray\n",
      "  x_train, y_train = np.array(xs[:idx]), np.array(labels[:idx])\n",
      "/usr/local/lib/python3.6/dist-packages/tensorflow/python/keras/datasets/imdb.py:160: VisibleDeprecationWarning: Creating an ndarray from ragged nested sequences (which is a list-or-tuple of lists-or-tuples-or ndarrays with different lengths or shapes) is deprecated. If you meant to do this, you must specify 'dtype=object' when creating the ndarray\n",
      "  x_test, y_test = np.array(xs[idx:]), np.array(labels[idx:])\n"
     ]
    }
   ],
   "source": [
    "from keras.datasets import imdb\n",
    "(train_data, train_labels), (test_data, test_labels)= imdb.load_data(\n",
    "    num_words = 10000\n",
    ")  #The argument num_words=10000 means\n",
    "# you’ll only keep the top 10,000 most frequently occurring words in the training data."
   ]
  },
  {
   "cell_type": "code",
   "execution_count": null,
   "metadata": {
    "colab": {
     "base_uri": "https://localhost:8080/"
    },
    "id": "kv3Pna2jvo3a",
    "outputId": "94a4f27a-523d-478e-c943-24dfb39b4399"
   },
   "outputs": [
    {
     "data": {
      "text/plain": [
       "9999"
      ]
     },
     "execution_count": 3,
     "metadata": {
      "tags": []
     },
     "output_type": "execute_result"
    }
   ],
   "source": [
    "#Because you’re restricting yourself to the top 10,000 most frequent words, no word\n",
    "#index will exceed 10,000\n",
    "max([max(sequence) for sequence in train_data])"
   ]
  },
  {
   "cell_type": "code",
   "execution_count": null,
   "metadata": {
    "colab": {
     "base_uri": "https://localhost:8080/",
     "height": 174
    },
    "id": "BdNRLHVfv-7P",
    "outputId": "179c890c-37e0-45e8-9f10-7de94a89401e"
   },
   "outputs": [
    {
     "name": "stdout",
     "output_type": "stream",
     "text": [
      "Downloading data from https://storage.googleapis.com/tensorflow/tf-keras-datasets/imdb_word_index.json\n",
      "1646592/1641221 [==============================] - 0s 0us/step\n"
     ]
    },
    {
     "data": {
      "application/vnd.google.colaboratory.intrinsic+json": {
       "type": "string"
      },
      "text/plain": [
       "'\\nstart_char: int. The start of a sequence will be marked with this character. Set to 1 because 0 is usually the padding character.\\noov_char: int. words that were cut out because of the num_words or skip_top limit will be replaced with this character.\\nindex_from: int. Index actual words with this index and higher.\\nThat dictionary you inverted assumes the word indices start from 1.\\nBut the indices returned my keras have <START> and <UNKNOWN> as indexes 1 and 2. (And it assumes you will use 0 for <PADDING>).'"
      ]
     },
     "execution_count": 4,
     "metadata": {
      "tags": []
     },
     "output_type": "execute_result"
    }
   ],
   "source": [
    " word_index =imdb.get_word_index()\n",
    " reverse_word_index = dict(\n",
    "     [(value,key) for (key,value) in word_index.items()])\n",
    " decoded_review = \"/\".join(\n",
    "     [reverse_word_index.get(i-3, \"?\") for i in train_data[0]]\n",
    " )\n",
    "\"\"\"\n",
    "start_char: int. The start of a sequence will be marked with this character. Set to 1 because 0 is usually the padding character.\n",
    "oov_char: int. words that were cut out because of the num_words or skip_top limit will be replaced with this character.\n",
    "index_from: int. Index actual words with this index and higher.\n",
    "That dictionary you inverted assumes the word indices start from 1.\n",
    "But the indices returned my keras have <START> and <UNKNOWN> as indexes 1 and 2. (And it assumes you will use 0 for <PADDING>).\"\"\""
   ]
  },
  {
   "cell_type": "code",
   "execution_count": null,
   "metadata": {
    "id": "JutjysNw1Hn-"
   },
   "outputs": [],
   "source": [
    "#Encoding the integer sequences into a binary matrix\n",
    "import numpy as np\n",
    "def vectorize_sequences(sequences, dimension=10000):\n",
    "  results = np.zeros((len(sequences), dimension))\n",
    "  for i, sequence in enumerate(sequences):  # enumerate() adds counter to an iterable and returns it \n",
    "    results[i, sequence] = 1.\n",
    "  return results\n",
    "x_train = vectorize_sequences(train_data)\n",
    "x_test = vectorize_sequences(test_data)"
   ]
  },
  {
   "cell_type": "code",
   "execution_count": null,
   "metadata": {
    "id": "bHTomZge2q5z"
   },
   "outputs": [],
   "source": [
    "#We should also vectorize our labels, which is straightforward:\n",
    "y_train = np.asarray(train_labels).astype('float32')\n",
    "y_test = np.asarray(test_labels).astype('float32')\n",
    "#Now the data is ready to be fed into a neural network."
   ]
  },
  {
   "cell_type": "code",
   "execution_count": null,
   "metadata": {
    "id": "80rZA5lq23ah"
   },
   "outputs": [],
   "source": [
    "# MODEL\n",
    "from keras import models\n",
    "from keras import layers\n",
    "model = models.Sequential()\n",
    "model.add(layers.Dense(16, activation='relu', input_shape=(10000,)))\n",
    "model.add(layers.Dense(16, activation='relu'))\n",
    "model.add(layers.Dense(1, activation='sigmoid'))"
   ]
  },
  {
   "cell_type": "code",
   "execution_count": null,
   "metadata": {
    "id": "2Pcw83jopD61"
   },
   "outputs": [],
   "source": [
    "# Compiling the model\n",
    "model.compile(optimizer='rmsprop',\n",
    "loss='binary_crossentropy',\n",
    "metrics=['accuracy'])"
   ]
  },
  {
   "cell_type": "code",
   "execution_count": null,
   "metadata": {
    "id": "DTOWTALlpJlA"
   },
   "outputs": [],
   "source": [
    "# Using custom losses and metrics\n",
    "from keras import losses\n",
    "from keras import optimizers\n",
    "from keras import metrics\n",
    "model.compile(optimizer=optimizers.RMSprop(lr=0.001),\n",
    "loss=losses.binary_crossentropy,\n",
    "metrics=[metrics.binary_accuracy])"
   ]
  },
  {
   "cell_type": "code",
   "execution_count": null,
   "metadata": {
    "id": "kVjwGc7gpc3h"
   },
   "outputs": [],
   "source": [
    "# Validation set\n",
    "x_val = x_train[:10000]\n",
    "partial_x_train = x_train[10000:]\n",
    "y_val = y_train[:10000]\n",
    "partial_y_train = y_train[10000:]"
   ]
  },
  {
   "cell_type": "code",
   "execution_count": null,
   "metadata": {
    "colab": {
     "base_uri": "https://localhost:8080/"
    },
    "id": "_sxJSxNxpoUo",
    "outputId": "92d1f794-4cd2-42df-f4b1-6bec22a22513"
   },
   "outputs": [
    {
     "name": "stdout",
     "output_type": "stream",
     "text": [
      "Epoch 1/20\n",
      "30/30 [==============================] - 2s 55ms/step - loss: 0.5890 - acc: 0.7075 - val_loss: 0.3799 - val_acc: 0.8695\n",
      "Epoch 2/20\n",
      "30/30 [==============================] - 1s 34ms/step - loss: 0.3123 - acc: 0.9039 - val_loss: 0.3062 - val_acc: 0.8830\n",
      "Epoch 3/20\n",
      "30/30 [==============================] - 1s 41ms/step - loss: 0.2247 - acc: 0.9255 - val_loss: 0.2756 - val_acc: 0.8913\n",
      "Epoch 4/20\n",
      "30/30 [==============================] - 1s 34ms/step - loss: 0.1719 - acc: 0.9455 - val_loss: 0.2752 - val_acc: 0.8900\n",
      "Epoch 5/20\n",
      "30/30 [==============================] - 1s 33ms/step - loss: 0.1345 - acc: 0.9613 - val_loss: 0.2883 - val_acc: 0.8859\n",
      "Epoch 6/20\n",
      "30/30 [==============================] - 1s 34ms/step - loss: 0.1061 - acc: 0.9684 - val_loss: 0.2979 - val_acc: 0.8853\n",
      "Epoch 7/20\n",
      "30/30 [==============================] - 1s 35ms/step - loss: 0.0845 - acc: 0.9794 - val_loss: 0.3227 - val_acc: 0.8802\n",
      "Epoch 8/20\n",
      "30/30 [==============================] - 1s 33ms/step - loss: 0.0705 - acc: 0.9830 - val_loss: 0.3528 - val_acc: 0.8751\n",
      "Epoch 9/20\n",
      "30/30 [==============================] - 1s 33ms/step - loss: 0.0552 - acc: 0.9865 - val_loss: 0.3597 - val_acc: 0.8792\n",
      "Epoch 10/20\n",
      "30/30 [==============================] - 1s 33ms/step - loss: 0.0434 - acc: 0.9922 - val_loss: 0.4097 - val_acc: 0.8719\n",
      "Epoch 11/20\n",
      "30/30 [==============================] - 1s 33ms/step - loss: 0.0356 - acc: 0.9935 - val_loss: 0.4184 - val_acc: 0.8764\n",
      "Epoch 12/20\n",
      "30/30 [==============================] - 1s 33ms/step - loss: 0.0276 - acc: 0.9952 - val_loss: 0.4467 - val_acc: 0.8763\n",
      "Epoch 13/20\n",
      "30/30 [==============================] - 1s 33ms/step - loss: 0.0227 - acc: 0.9962 - val_loss: 0.4788 - val_acc: 0.8733\n",
      "Epoch 14/20\n",
      "30/30 [==============================] - 1s 33ms/step - loss: 0.0161 - acc: 0.9981 - val_loss: 0.5105 - val_acc: 0.8722\n",
      "Epoch 15/20\n",
      "30/30 [==============================] - 1s 33ms/step - loss: 0.0112 - acc: 0.9992 - val_loss: 0.5486 - val_acc: 0.8678\n",
      "Epoch 16/20\n",
      "30/30 [==============================] - 1s 33ms/step - loss: 0.0086 - acc: 0.9998 - val_loss: 0.5898 - val_acc: 0.8686\n",
      "Epoch 17/20\n",
      "30/30 [==============================] - 1s 34ms/step - loss: 0.0103 - acc: 0.9985 - val_loss: 0.6334 - val_acc: 0.8657\n",
      "Epoch 18/20\n",
      "30/30 [==============================] - 1s 33ms/step - loss: 0.0061 - acc: 0.9993 - val_loss: 0.6543 - val_acc: 0.8687\n",
      "Epoch 19/20\n",
      "30/30 [==============================] - 1s 33ms/step - loss: 0.0033 - acc: 0.9999 - val_loss: 0.7059 - val_acc: 0.8662\n",
      "Epoch 20/20\n",
      "30/30 [==============================] - 1s 33ms/step - loss: 0.0062 - acc: 0.9986 - val_loss: 0.7336 - val_acc: 0.8673\n"
     ]
    }
   ],
   "source": [
    "# Training our model\n",
    "model.compile(optimizer='rmsprop',\n",
    "loss='binary_crossentropy',\n",
    "metrics=['acc'])\n",
    "\n",
    "history = model.fit(partial_x_train, # tensorflow.python.keras.callbacks.History ( dictionary aynı zamanda )\n",
    "partial_y_train,\n",
    "epochs=20,\n",
    "batch_size=512,\n",
    "validation_data=(x_val, y_val))\n",
    "#Note that the call to model.fit() returns a History object. This object has a member history, \n",
    "#which is a dictionary containing data about everything that happened during training\n",
    "# OUR MODEL IS OVERFITTING AFTER 4TH EPOCH \n"
   ]
  },
  {
   "cell_type": "code",
   "execution_count": null,
   "metadata": {
    "colab": {
     "base_uri": "https://localhost:8080/"
    },
    "id": "BwahABzbqLqK",
    "outputId": "38cd69a2-e77c-425d-8681-c4b2cf7b23f8"
   },
   "outputs": [
    {
     "data": {
      "text/plain": [
       "dict_keys(['loss', 'acc', 'val_loss', 'val_acc'])"
      ]
     },
     "execution_count": 12,
     "metadata": {
      "tags": []
     },
     "output_type": "execute_result"
    }
   ],
   "source": [
    "history_dict = history.history\n",
    "history_dict.keys()\n",
    "#The dictionary contains four entries:"
   ]
  },
  {
   "cell_type": "code",
   "execution_count": null,
   "metadata": {
    "colab": {
     "base_uri": "https://localhost:8080/",
     "height": 295
    },
    "id": "FWtcH5A8qYRZ",
    "outputId": "63d9d8e9-50a3-4361-c6e5-b23283cd3fcd"
   },
   "outputs": [
    {
     "data": {
      "image/png": "[encoded data removed]",
      "text/plain": [
       "<Figure size 432x288 with 1 Axes>"
      ]
     },
     "metadata": {
      "needs_background": "light",
      "tags": []
     },
     "output_type": "display_data"
    }
   ],
   "source": [
    "## Plotting the training and validation loss\n",
    "import matplotlib.pyplot as plt\n",
    "loss_values = history_dict['loss']\n",
    "val_loss_values = history_dict['val_loss']\n",
    "\n",
    "epochs = range(1, 21)\n",
    "plt.plot(epochs, loss_values, 'bo', label='Training loss')\n",
    "plt.plot(epochs, val_loss_values, 'b', label='Validation loss')\n",
    "plt.title('Training and validation loss')\n",
    "plt.xlabel('Epochs')\n",
    "plt.ylabel('Loss')\n",
    "plt.legend()\n",
    "plt.show()"
   ]
  },
  {
   "cell_type": "code",
   "execution_count": null,
   "metadata": {
    "colab": {
     "base_uri": "https://localhost:8080/",
     "height": 295
    },
    "id": "B_SYxFTXrYdx",
    "outputId": "0018cffb-d0ea-4101-81c6-a0898fa659d4"
   },
   "outputs": [
    {
     "data": {
      "image/png": "[encoded data removed]",
      "text/plain": [
       "<Figure size 432x288 with 1 Axes>"
      ]
     },
     "metadata": {
      "needs_background": "light",
      "tags": []
     },
     "output_type": "display_data"
    }
   ],
   "source": [
    "## Plotting the training and validation accuracy\n",
    "import matplotlib.pyplot as plt\n",
    "plt.clf()   # clears the figure\n",
    "accuracy_values = history_dict[\"acc\"]\n",
    "val_accuracy_values = history_dict[\"val_acc\"]\n",
    "\n",
    "epochs = range(1,21)\n",
    "plt.plot(epochs, accuracy_values, \"bo\", label = \"Training accuracy\")\n",
    "plt.plot(epochs, val_accuracy_values, \"b\", label = \"Validation accuracy\")\n",
    "plt.title('Training and validation accuracy')\n",
    "plt.xlabel('Epochs')\n",
    "plt.ylabel('Loss')\n",
    "plt.legend()\n",
    "plt.show()"
   ]
  },
  {
   "cell_type": "code",
   "execution_count": null,
   "metadata": {
    "colab": {
     "base_uri": "https://localhost:8080/"
    },
    "id": "dhqI5impr2Fa",
    "outputId": "9558d5a8-6e8c-4de6-eb4d-93d0320f38be"
   },
   "outputs": [
    {
     "name": "stdout",
     "output_type": "stream",
     "text": [
      "Epoch 1/4\n",
      "49/49 [==============================] - 2s 26ms/step - loss: 0.5963 - accuracy: 0.6928\n",
      "Epoch 2/4\n",
      "49/49 [==============================] - 1s 25ms/step - loss: 0.3143 - accuracy: 0.9027\n",
      "Epoch 3/4\n",
      "49/49 [==============================] - 1s 25ms/step - loss: 0.2205 - accuracy: 0.9265\n",
      "Epoch 4/4\n",
      "49/49 [==============================] - 1s 25ms/step - loss: 0.1744 - accuracy: 0.9442\n",
      "782/782 [==============================] - 1s 2ms/step - loss: 0.3100 - accuracy: 0.8762\n"
     ]
    }
   ],
   "source": [
    "# Retraining a model from scratch ( with 4 epoch,cuz its overfitting after this number of epochs like we saw above.)\n",
    "model = models.Sequential()\n",
    "model.add(layers.Dense(16, activation='relu', input_shape=(10000,)))\n",
    "model.add(layers.Dense(16, activation='relu'))\n",
    "model.add(layers.Dense(1, activation='sigmoid'))\n",
    "\n",
    "model.compile(optimizer='rmsprop',\n",
    "loss='binary_crossentropy',\n",
    "metrics=['accuracy'])\n",
    "model.fit(x_train, y_train, epochs=4, batch_size=512)\n",
    "\n",
    "results = model.evaluate(x_test, y_test)"
   ]
  },
  {
   "cell_type": "code",
   "execution_count": null,
   "metadata": {
    "colab": {
     "base_uri": "https://localhost:8080/"
    },
    "id": "Bez3rljntTh_",
    "outputId": "cfc77a78-9c76-4928-e664-3a36f0f66850"
   },
   "outputs": [
    {
     "data": {
      "text/plain": [
       "[0.30997711420059204, 0.8761600255966187]"
      ]
     },
     "execution_count": 16,
     "metadata": {
      "tags": []
     },
     "output_type": "execute_result"
    }
   ],
   "source": [
    "results\n",
    "#This fairly naive approach achieves an accuracy of 88%. \n"
   ]
  },
  {
   "cell_type": "code",
   "execution_count": null,
   "metadata": {
    "colab": {
     "base_uri": "https://localhost:8080/"
    },
    "id": "ZPV77symtZDr",
    "outputId": "c0bbf20c-d52d-4dd4-c7bf-c79027400a5b"
   },
   "outputs": [
    {
     "data": {
      "text/plain": [
       "array([[0.26454455],\n",
       "       [0.99998474],\n",
       "       [0.9751506 ],\n",
       "       ...,\n",
       "       [0.2043927 ],\n",
       "       [0.11741075],\n",
       "       [0.78086877]], dtype=float32)"
      ]
     },
     "execution_count": 17,
     "metadata": {
      "tags": []
     },
     "output_type": "execute_result"
    }
   ],
   "source": [
    "# Using a trained network to generate predictions on new data\n",
    "model.predict(x_test)"
   ]
  },
  {
   "cell_type": "code",
   "execution_count": null,
   "metadata": {
    "colab": {
     "base_uri": "https://localhost:8080/"
    },
    "id": "poBkn4xWtzOn",
    "outputId": "55cf3a3f-93f5-48b5-9cc0-4b0cd2f6451a"
   },
   "outputs": [
    {
     "name": "stdout",
     "output_type": "stream",
     "text": [
      "Downloading data from https://storage.googleapis.com/tensorflow/tf-keras-datasets/reuters.npz\n",
      "2113536/2110848 [==============================] - 0s 0us/step\n"
     ]
    },
    {
     "name": "stderr",
     "output_type": "stream",
     "text": [
      "/usr/local/lib/python3.6/dist-packages/tensorflow/python/keras/datasets/reuters.py:148: VisibleDeprecationWarning: Creating an ndarray from ragged nested sequences (which is a list-or-tuple of lists-or-tuples-or ndarrays with different lengths or shapes) is deprecated. If you meant to do this, you must specify 'dtype=object' when creating the ndarray\n",
      "  x_train, y_train = np.array(xs[:idx]), np.array(labels[:idx])\n",
      "/usr/local/lib/python3.6/dist-packages/tensorflow/python/keras/datasets/reuters.py:149: VisibleDeprecationWarning: Creating an ndarray from ragged nested sequences (which is a list-or-tuple of lists-or-tuples-or ndarrays with different lengths or shapes) is deprecated. If you meant to do this, you must specify 'dtype=object' when creating the ndarray\n",
      "  x_test, y_test = np.array(xs[idx:]), np.array(labels[idx:])\n"
     ]
    }
   ],
   "source": [
    "## REUTERS DATASET\n",
    "\n",
    "from keras.datasets import reuters\n",
    "(train_data, train_labels), (test_data, test_labels) = reuters.load_data(num_words = 10000)"
   ]
  },
  {
   "cell_type": "code",
   "execution_count": null,
   "metadata": {
    "colab": {
     "base_uri": "https://localhost:8080/"
    },
    "id": "Y0Z7nCgWay_H",
    "outputId": "d019e1e6-bf1e-4622-9e14-7f59e2f259f9"
   },
   "outputs": [
    {
     "data": {
      "text/plain": [
       "8982"
      ]
     },
     "execution_count": 19,
     "metadata": {
      "tags": []
     },
     "output_type": "execute_result"
    }
   ],
   "source": [
    "len(train_data)"
   ]
  },
  {
   "cell_type": "code",
   "execution_count": null,
   "metadata": {
    "colab": {
     "base_uri": "https://localhost:8080/"
    },
    "id": "rhr0L3uFa11w",
    "outputId": "af59f1bb-c3c8-4171-cf73-c02dc5d20823"
   },
   "outputs": [
    {
     "data": {
      "text/plain": [
       "2246"
      ]
     },
     "execution_count": 20,
     "metadata": {
      "tags": []
     },
     "output_type": "execute_result"
    }
   ],
   "source": [
    "len(test_data)"
   ]
  },
  {
   "cell_type": "code",
   "execution_count": null,
   "metadata": {
    "colab": {
     "base_uri": "https://localhost:8080/"
    },
    "id": "eHgOJG9Ca3d2",
    "outputId": "7a0b6ac6-7041-4692-f5e8-915472733234"
   },
   "outputs": [
    {
     "data": {
      "text/plain": [
       "[1,\n",
       " 361,\n",
       " 372,\n",
       " 8,\n",
       " 77,\n",
       " 62,\n",
       " 325,\n",
       " 4105,\n",
       " 336,\n",
       " 5,\n",
       " 1605,\n",
       " 37,\n",
       " 412,\n",
       " 453,\n",
       " 1187,\n",
       " 229,\n",
       " 334,\n",
       " 13,\n",
       " 4,\n",
       " 867,\n",
       " 76,\n",
       " 4,\n",
       " 76,\n",
       " 1726,\n",
       " 6,\n",
       " 264,\n",
       " 2337,\n",
       " 18,\n",
       " 82,\n",
       " 95,\n",
       " 97,\n",
       " 2220,\n",
       " 4,\n",
       " 1004,\n",
       " 649,\n",
       " 18,\n",
       " 82,\n",
       " 554,\n",
       " 136,\n",
       " 4,\n",
       " 143,\n",
       " 334,\n",
       " 290,\n",
       " 126,\n",
       " 5,\n",
       " 4,\n",
       " 2820,\n",
       " 777,\n",
       " 2,\n",
       " 1386,\n",
       " 13,\n",
       " 954,\n",
       " 7,\n",
       " 4,\n",
       " 314,\n",
       " 912,\n",
       " 224,\n",
       " 4,\n",
       " 2370,\n",
       " 1128,\n",
       " 54,\n",
       " 429,\n",
       " 2,\n",
       " 18,\n",
       " 82,\n",
       " 5,\n",
       " 496,\n",
       " 1187,\n",
       " 229,\n",
       " 57,\n",
       " 85,\n",
       " 385,\n",
       " 593,\n",
       " 6,\n",
       " 4,\n",
       " 867,\n",
       " 76,\n",
       " 17,\n",
       " 12]"
      ]
     },
     "execution_count": 21,
     "metadata": {
      "tags": []
     },
     "output_type": "execute_result"
    }
   ],
   "source": [
    "test_data[10] #word indices"
   ]
  },
  {
   "cell_type": "code",
   "execution_count": null,
   "metadata": {
    "id": "nk6ThQwAa60c"
   },
   "outputs": [],
   "source": [
    "#Encoding the data\n",
    "x_train = vectorize_sequences(train_data)\n",
    "x_test = vectorize_sequences(test_data)\n"
   ]
  },
  {
   "cell_type": "code",
   "execution_count": null,
   "metadata": {
    "id": "C-lRzROJbKMM"
   },
   "outputs": [],
   "source": [
    "# To vectorize the labels, we can cast the label list as an integer tensor, or\n",
    "# we can use one-hot encoding. One-hot encoding is a widely used format for categorical data.\n",
    "from keras.utils.np_utils import to_categorical\n",
    "\n",
    "one_hot_train_labels = to_categorical(train_labels)\n",
    "one_hot_test_labels = to_categorical(test_labels)"
   ]
  },
  {
   "cell_type": "code",
   "execution_count": null,
   "metadata": {
    "id": "bIUPBgnnb0QH"
   },
   "outputs": [],
   "source": [
    "## Building our network\n",
    "# Each layer can only access information present in the output of the previous layer.\n",
    "#So if one layer drops some information, this info can never be recovered by later layers.\n",
    "# So 16-dimensional space may be too limited to learn to separate 46 different classes. For\n",
    "#that reason, we'll use larger layers. ( 64 )\n",
    "\n",
    "# Model Definition\n",
    "model = models.Sequential()\n",
    "model.add(layers.Dense(64, activation = \"relu\", input_shape= (10000,)))\n",
    "model.add(layers.Dense(64, activation = \"relu\"))\n",
    "model.add(layers.Dense(46, activation = \"softmax\"))\n"
   ]
  },
  {
   "cell_type": "code",
   "execution_count": null,
   "metadata": {
    "id": "mxUkTIgsdenX"
   },
   "outputs": [],
   "source": [
    "## Compiling the model\n",
    "model.compile(optimizer = \"rmsprop\", loss = \"categorical_crossentropy\",\n",
    "              metrics = [\"accuracy\"])"
   ]
  },
  {
   "cell_type": "code",
   "execution_count": null,
   "metadata": {
    "id": "EL-OTqF6gYtm"
   },
   "outputs": [],
   "source": [
    "# Setting aside a validation set\n",
    "x_val = x_train[:1000]\n",
    "partial_x_train = x_train[1000:]\n",
    "\n",
    "y_val = one_hot_train_labels[:1000]\n",
    "partial_y_train = one_hot_train_labels[1000:]"
   ]
  },
  {
   "cell_type": "code",
   "execution_count": null,
   "metadata": {
    "colab": {
     "base_uri": "https://localhost:8080/"
    },
    "id": "L4R6CWUcgoqf",
    "outputId": "ed4c65c1-70c3-4d24-eac3-bcdeee7d58ae"
   },
   "outputs": [
    {
     "name": "stdout",
     "output_type": "stream",
     "text": [
      "Epoch 1/20\n",
      "16/16 [==============================] - 2s 67ms/step - loss: 3.0590 - accuracy: 0.4141 - val_loss: 1.6932 - val_accuracy: 0.6390\n",
      "Epoch 2/20\n",
      "16/16 [==============================] - 1s 44ms/step - loss: 1.4835 - accuracy: 0.6868 - val_loss: 1.2789 - val_accuracy: 0.7170\n",
      "Epoch 3/20\n",
      "16/16 [==============================] - 1s 44ms/step - loss: 1.0421 - accuracy: 0.7780 - val_loss: 1.0980 - val_accuracy: 0.7560\n",
      "Epoch 4/20\n",
      "16/16 [==============================] - 1s 45ms/step - loss: 0.8116 - accuracy: 0.8287 - val_loss: 1.0016 - val_accuracy: 0.7760\n",
      "Epoch 5/20\n",
      "16/16 [==============================] - 1s 45ms/step - loss: 0.6229 - accuracy: 0.8693 - val_loss: 0.9453 - val_accuracy: 0.8010\n",
      "Epoch 6/20\n",
      "16/16 [==============================] - 1s 45ms/step - loss: 0.5074 - accuracy: 0.8964 - val_loss: 0.9074 - val_accuracy: 0.8120\n",
      "Epoch 7/20\n",
      "16/16 [==============================] - 1s 47ms/step - loss: 0.4073 - accuracy: 0.9164 - val_loss: 0.8883 - val_accuracy: 0.8050\n",
      "Epoch 8/20\n",
      "16/16 [==============================] - 1s 46ms/step - loss: 0.3331 - accuracy: 0.9291 - val_loss: 0.8629 - val_accuracy: 0.8230\n",
      "Epoch 9/20\n",
      "16/16 [==============================] - 1s 45ms/step - loss: 0.2723 - accuracy: 0.9437 - val_loss: 0.8698 - val_accuracy: 0.8260\n",
      "Epoch 10/20\n",
      "16/16 [==============================] - 1s 44ms/step - loss: 0.2322 - accuracy: 0.9451 - val_loss: 0.8814 - val_accuracy: 0.8240\n",
      "Epoch 11/20\n",
      "16/16 [==============================] - 1s 44ms/step - loss: 0.2042 - accuracy: 0.9494 - val_loss: 0.9221 - val_accuracy: 0.8140\n",
      "Epoch 12/20\n",
      "16/16 [==============================] - 1s 44ms/step - loss: 0.1757 - accuracy: 0.9535 - val_loss: 0.9462 - val_accuracy: 0.8140\n",
      "Epoch 13/20\n",
      "16/16 [==============================] - 1s 45ms/step - loss: 0.1546 - accuracy: 0.9591 - val_loss: 0.9628 - val_accuracy: 0.8110\n",
      "Epoch 14/20\n",
      "16/16 [==============================] - 1s 44ms/step - loss: 0.1432 - accuracy: 0.9579 - val_loss: 0.9521 - val_accuracy: 0.8150\n",
      "Epoch 15/20\n",
      "16/16 [==============================] - 1s 44ms/step - loss: 0.1243 - accuracy: 0.9618 - val_loss: 0.9670 - val_accuracy: 0.8090\n",
      "Epoch 16/20\n",
      "16/16 [==============================] - 1s 44ms/step - loss: 0.1195 - accuracy: 0.9620 - val_loss: 1.0016 - val_accuracy: 0.8020\n",
      "Epoch 17/20\n",
      "16/16 [==============================] - 1s 45ms/step - loss: 0.1083 - accuracy: 0.9641 - val_loss: 1.0086 - val_accuracy: 0.8160\n",
      "Epoch 18/20\n",
      "16/16 [==============================] - 1s 44ms/step - loss: 0.1158 - accuracy: 0.9616 - val_loss: 1.0469 - val_accuracy: 0.8030\n",
      "Epoch 19/20\n",
      "16/16 [==============================] - 1s 45ms/step - loss: 0.1097 - accuracy: 0.9595 - val_loss: 1.0334 - val_accuracy: 0.8040\n",
      "Epoch 20/20\n",
      "16/16 [==============================] - 1s 43ms/step - loss: 0.1093 - accuracy: 0.9625 - val_loss: 1.1096 - val_accuracy: 0.7980\n"
     ]
    }
   ],
   "source": [
    "## Training the model\n",
    "history = model.fit(partial_x_train, partial_y_train, epochs = 20, batch_size = 512,\n",
    "                    validation_data = (x_val, y_val))"
   ]
  },
  {
   "cell_type": "code",
   "execution_count": null,
   "metadata": {
    "colab": {
     "base_uri": "https://localhost:8080/",
     "height": 295
    },
    "id": "7wWSwCL6g1fx",
    "outputId": "0b286dd8-9570-42ae-980f-36fc0f2211a2"
   },
   "outputs": [
    {
     "data": {
      "image/png": "[encoded data removed]",
      "text/plain": [
       "<Figure size 432x288 with 1 Axes>"
      ]
     },
     "metadata": {
      "needs_background": "light",
      "tags": []
     },
     "output_type": "display_data"
    }
   ],
   "source": [
    "# Plotting the training and validation loss\n",
    "loss = history.history[\"loss\"]\n",
    "val_loss = history.history[\"val_loss\"]\n",
    "epochs = range(1, len(loss)+ 1)\n",
    "\n",
    "plt.plot(epochs, loss, \"bo\", label = \"Training Loss\")\n",
    "plt.plot(epochs, val_loss, \"b\", label = \"Validation Loss\")\n",
    "plt.title(\"Training and validation loss\")\n",
    "plt.xlabel(\"Epochs\")\n",
    "plt.ylabel(\"Loss\")\n",
    "plt.legend()\n",
    "\n",
    "plt.show()\n",
    "#Network begins to overfit after nine epochs, lets train a new network from scratch for 9epochs\n",
    " "
   ]
  },
  {
   "cell_type": "code",
   "execution_count": null,
   "metadata": {
    "colab": {
     "base_uri": "https://localhost:8080/"
    },
    "id": "AA8KW3LzhiOI",
    "outputId": "d57cc15e-d488-4774-fa31-ef3001903ec7"
   },
   "outputs": [
    {
     "name": "stdout",
     "output_type": "stream",
     "text": [
      "Epoch 1/9\n",
      "16/16 [==============================] - 1s 56ms/step - loss: 3.1303 - accuracy: 0.3900 - val_loss: 1.7228 - val_accuracy: 0.6530\n",
      "Epoch 2/9\n",
      "16/16 [==============================] - 1s 44ms/step - loss: 1.4790 - accuracy: 0.7021 - val_loss: 1.3368 - val_accuracy: 0.7080\n",
      "Epoch 3/9\n",
      "16/16 [==============================] - 1s 44ms/step - loss: 1.1049 - accuracy: 0.7669 - val_loss: 1.1781 - val_accuracy: 0.7400\n",
      "Epoch 4/9\n",
      "16/16 [==============================] - 1s 44ms/step - loss: 0.8508 - accuracy: 0.8206 - val_loss: 1.0824 - val_accuracy: 0.7750\n",
      "Epoch 5/9\n",
      "16/16 [==============================] - 1s 45ms/step - loss: 0.7069 - accuracy: 0.8522 - val_loss: 1.0131 - val_accuracy: 0.7900\n",
      "Epoch 6/9\n",
      "16/16 [==============================] - 1s 44ms/step - loss: 0.5544 - accuracy: 0.8819 - val_loss: 1.0088 - val_accuracy: 0.7970\n",
      "Epoch 7/9\n",
      "16/16 [==============================] - 1s 43ms/step - loss: 0.4619 - accuracy: 0.9096 - val_loss: 0.9599 - val_accuracy: 0.8150\n",
      "Epoch 8/9\n",
      "16/16 [==============================] - 1s 44ms/step - loss: 0.3602 - accuracy: 0.9279 - val_loss: 0.9454 - val_accuracy: 0.8040\n",
      "Epoch 9/9\n",
      "16/16 [==============================] - 1s 44ms/step - loss: 0.2983 - accuracy: 0.9362 - val_loss: 0.9842 - val_accuracy: 0.7910\n",
      "71/71 [==============================] - 0s 2ms/step - loss: 1.0404 - accuracy: 0.7743\n"
     ]
    }
   ],
   "source": [
    "#Retraining a model from scratch\n",
    "\n",
    "model = models.Sequential()\n",
    "model.add(layers.Dense(64, activation = \"relu\", input_shape =(10000,)))\n",
    "model.add(layers.Dense(64, activation = \"relu\"))\n",
    "model.add(layers.Dense(46, activation = \"softmax\"))\n",
    "\n",
    "model.compile(optimizer = \"rmsprop\",\n",
    "              loss = \"categorical_crossentropy\",\n",
    "              metrics = [\"accuracy\"])\n",
    "model.fit(partial_x_train,\n",
    "          partial_y_train,\n",
    "          epochs = 9,\n",
    "          batch_size = 512,\n",
    "          validation_data = (x_val, y_val))\n",
    "results = model.evaluate(x_test, one_hot_test_labels)"
   ]
  },
  {
   "cell_type": "code",
   "execution_count": null,
   "metadata": {
    "colab": {
     "base_uri": "https://localhost:8080/"
    },
    "id": "--ZaR0rjeL-Y",
    "outputId": "bd2a7858-9131-4b7e-e471-d5ec809d842b"
   },
   "outputs": [
    {
     "data": {
      "text/plain": [
       "[1.040434718132019, 0.7742653489112854]"
      ]
     },
     "execution_count": 39,
     "metadata": {
      "tags": []
     },
     "output_type": "execute_result"
    }
   ],
   "source": [
    "results"
   ]
  },
  {
   "cell_type": "code",
   "execution_count": null,
   "metadata": {
    "colab": {
     "base_uri": "https://localhost:8080/"
    },
    "id": "n8dugdj0ebd9",
    "outputId": "a5732148-a7e0-4bd4-dd2d-c5625fdb9439"
   },
   "outputs": [
    {
     "data": {
      "text/plain": [
       "3"
      ]
     },
     "execution_count": 41,
     "metadata": {
      "tags": []
     },
     "output_type": "execute_result"
    }
   ],
   "source": [
    "# Generating predictions for new data\n",
    "\n",
    "predictions = model.predict(x_test)\n",
    "predictions[0].shape # each entry in predictions is a vector  of lenght 46\n",
    "np.sum(predictions[2]) # the coefficients in this vector sum to 1\n",
    "np.argmax(predictions[0]) # the largest entry in the predicted class0"
   ]
  },
  {
   "cell_type": "code",
   "execution_count": null,
   "metadata": {
    "id": "DV9DbhQP3TVK"
   },
   "outputs": [],
   "source": [
    "## A different way to handle the labels and the loss\n",
    "\n",
    "y_train = np.array(train_labels)\n",
    "y_test = np.array(test_labels) #cast them as an integer tensor\n",
    "#the only thing this approach would change is the choice of loss function\n",
    "model.compile(optimizer = \"rmsprop\",\n",
    "              loss = \"sparse_categorical_crossentropy\",\n",
    "              metrics = [\"acc\"])"
   ]
  },
  {
   "cell_type": "code",
   "execution_count": null,
   "metadata": {
    "colab": {
     "base_uri": "https://localhost:8080/"
    },
    "id": "MTnwYnGe34Cy",
    "outputId": "7241dfea-568e-4263-8561-5b8fa035027a"
   },
   "outputs": [
    {
     "name": "stdout",
     "output_type": "stream",
     "text": [
      "Downloading data from https://storage.googleapis.com/tensorflow/tf-keras-datasets/boston_housing.npz\n",
      "57344/57026 [==============================] - 0s 0us/step\n"
     ]
    }
   ],
   "source": [
    "### REGRESSION EXAMPLE\n",
    "\n",
    "#Loading the Boston housing dataset\n",
    "from keras.datasets import boston_housing\n",
    "(train_data, train_targets), (test_data, test_targets) = boston_housing.load_data()"
   ]
  },
  {
   "cell_type": "code",
   "execution_count": null,
   "metadata": {
    "id": "xuM448gb5ye5"
   },
   "outputs": [],
   "source": [
    "train_data.shape # (404, 13)\n",
    "train_targets.shape #(404,) The targets are the median values of owner-occupied homes in k$\n",
    "test_data.shape #(102,13) "
   ]
  },
  {
   "cell_type": "code",
   "execution_count": null,
   "metadata": {
    "id": "jn_QR54E55qO"
   },
   "outputs": [],
   "source": [
    "### Preparing the data\n",
    "#Normalizing the data\n",
    "\n",
    "mean = train_data.mean(axis = 0) #columnwise\n",
    "train_data -= mean\n",
    "std = train_data.std(axis = 0)\n",
    "train_data /= std\n",
    "\n",
    "test_data -= mean\n",
    "test_data /= mean\n",
    "#note that the quantities used for normalizing the dest data are computed using the training data.\n",
    "# we should never use in our workflow any quantity computed on the test data.\n",
    "\n",
    "#Model Definition\n",
    "def build_model(): # cuz you'll need to instantiate the same model multiple times, yyou better be use a function then\n",
    "  model = models.Sequential()\n",
    "  model.add(layers.Dense(64, activation = \"relu\",\n",
    "                         input_shape = (train_data.shape[1],)))\n",
    "  model.add(layers.Dense(64, activation = \"relu\"))\n",
    "  model.add(layers.Dense(1)) #we need just 1 linear layer.\n",
    "  model.compile(optimizer = \"rmsprop\", loss = \"mse\", metrics = [\"mae\"])\n",
    "  return model"
   ]
  },
  {
   "cell_type": "code",
   "execution_count": null,
   "metadata": {
    "colab": {
     "base_uri": "https://localhost:8080/"
    },
    "id": "HZdHfcZtITNE",
    "outputId": "5799191a-aebe-4271-8351-cb1ed2ac1653"
   },
   "outputs": [
    {
     "data": {
      "text/plain": [
       "<tensorflow.python.keras.engine.sequential.Sequential at 0x7f9db700a470>"
      ]
     },
     "execution_count": 91,
     "metadata": {
      "tags": []
     },
     "output_type": "execute_result"
    }
   ],
   "source": [
    "build_model()"
   ]
  },
  {
   "cell_type": "code",
   "execution_count": null,
   "metadata": {
    "id": "Br6FY2Ky-iKr"
   },
   "outputs": [],
   "source": [
    "np.mean(all_scores) # the average is a much more reliable metric than any single score\n",
    "# in this case you are off by 2500$"
   ]
  },
  {
   "cell_type": "code",
   "execution_count": null,
   "metadata": {
    "colab": {
     "base_uri": "https://localhost:8080/"
    },
    "id": "BQ6Ho6re-nz3",
    "outputId": "086a79f3-5651-4b42-ee73-bb0510825141"
   },
   "outputs": [
    {
     "name": "stdout",
     "output_type": "stream",
     "text": [
      "processing fold #  0\n",
      "processing fold #  1\n",
      "processing fold #  2\n",
      "processing fold #  3\n"
     ]
    }
   ],
   "source": [
    "# Saving the validation logs at each fold\n",
    "num_epochs = 500\n",
    "all_mae_histories = list()\n",
    "for i in range(k):\n",
    "  print(\"processing fold # \",i)\n",
    "  val_data = train_data[i*num_val_samples: (i+1)* num_val_samples]\n",
    "  val_targets = train_targets[i * num_val_samples: (i+1)* num_val_samples]\n",
    "\n",
    "  partial_train_data = np.concatenate(\n",
    "      [train_data[:i* num_val_samples],\n",
    "       train_data[(i+1)* num_val_samples:]],\n",
    "       axis = 0\n",
    "  )\n",
    "  partial_train_targets = np.concatenate(\n",
    "  [train_targets[:i * num_val_samples],\n",
    "  train_targets[(i + 1) * num_val_samples:]],\n",
    "  axis=0)\n",
    "  model = build_model()\n",
    "  history = model.fit(partial_train_data, partial_train_targets,\n",
    "  validation_data=(val_data, val_targets),\n",
    "  epochs=num_epochs, batch_size=1, verbose=0)\n",
    "  mae_history = history.history['val_mae']\n",
    "  all_mae_histories.append(mae_history)\n"
   ]
  },
  {
   "cell_type": "code",
   "execution_count": null,
   "metadata": {
    "id": "qDcK6RzaAfK4"
   },
   "outputs": [],
   "source": [
    "#Building the history of successive mean K-fold val scores\n",
    "average_mae_history =  [\n",
    "                        np.mean([x[i] for x in all_mae_histories]) for i in range(num_epochs)\n",
    "]"
   ]
  },
  {
   "cell_type": "code",
   "execution_count": null,
   "metadata": {
    "colab": {
     "base_uri": "https://localhost:8080/",
     "height": 279
    },
    "id": "jqs9r2l9EXUp",
    "outputId": "1615be05-e0de-420e-8dc3-727c8264fe78"
   },
   "outputs": [
    {
     "data": {
      "image/png": "[encoded data removed]",
      "text/plain": [
       "<Figure size 432x288 with 1 Axes>"
      ]
     },
     "metadata": {
      "needs_background": "light",
      "tags": []
     },
     "output_type": "display_data"
    }
   ],
   "source": [
    "\n",
    "plt.plot(range(1, len(average_mae_history) + 1), average_mae_history)\n",
    "plt.xlabel('Epochs')\n",
    "plt.ylabel('Validation MAE')\n",
    "plt.show()\n",
    "# Omit the first 10 data points, which are on a different scale than the rest\n",
    "# Replace each point with an exponential moving average of the previous points,\n",
    "#to obtain a smooth curve"
   ]
  },
  {
   "cell_type": "code",
   "execution_count": null,
   "metadata": {
    "colab": {
     "base_uri": "https://localhost:8080/",
     "height": 279
    },
    "id": "LnTTYDT0GT-D",
    "outputId": "dff63df7-8f5d-4a9a-d69d-35d62d1ecd4a"
   },
   "outputs": [
    {
     "data": {
      "image/png": "[encoded data removed]",
      "text/plain": [
       "<Figure size 432x288 with 1 Axes>"
      ]
     },
     "metadata": {
      "needs_background": "light",
      "tags": []
     },
     "output_type": "display_data"
    }
   ],
   "source": [
    "# plotting val scores with excluding the first 10 data points\n",
    "def smooth_curve(points, factor = .9):\n",
    "  smoothed_points = list()\n",
    "  for point in points:\n",
    "    if smoothed_points:\n",
    "      previous = smoothed_points[-1]\n",
    "      smoothed_points.append(previous* factor+ point*(1-factor))\n",
    "    else:\n",
    "      smoothed_points.append(point)\n",
    "  return smoothed_points\n",
    "smooth_mae_history = smooth_curve(average_mae_history[10:])\n",
    "\n",
    "plt.plot(range(1, len(smooth_mae_history) +1 ), smooth_mae_history)\n",
    "plt.xlabel(\"Epochs\")\n",
    "plt.ylabel(\"Validation MAE\")\n",
    "plt.show()\n",
    "#According to this plot, validation MAE stops improving significantly after 80epochs.\n",
    "#Past that point, you start overfitting.\n"
   ]
  },
  {
   "cell_type": "code",
   "execution_count": null,
   "metadata": {
    "colab": {
     "base_uri": "https://localhost:8080/"
    },
    "id": "JFOiMXX9HJWX",
    "outputId": "a68964cf-122c-4ccd-ad35-8ea1ca40f0b6"
   },
   "outputs": [
    {
     "name": "stdout",
     "output_type": "stream",
     "text": [
      "4/4 [==============================] - 0s 3ms/step - loss: inf - mae: 19187585336427994391868665015304192.0000\n"
     ]
    }
   ],
   "source": [
    "# TRAINING THE FINAL MODEL\n",
    "\n",
    "model = build_model()\n",
    "model.fit(train_data, train_targets,\n",
    "          epochs = 80, batch_size = 16, verbose = 0)\n",
    "test_mse_score, test_mae_score = model.evaluate(test_data, test_targets)"
   ]
  },
  {
   "cell_type": "code",
   "execution_count": null,
   "metadata": {
    "id": "SkHCaaFYID-g"
   },
   "outputs": [],
   "source": [
    "test_mae_score  # we are still of by about 1900$\n"
   ]
  },
  {
   "cell_type": "code",
   "execution_count": null,
   "metadata": {
    "id": "yICENJfDIYwx"
   },
   "outputs": [],
   "source": []
  }
 ],
 "metadata": {
  "colab": {
   "collapsed_sections": [],
   "name": "Deep Learning with Python",
   "provenance": []
  },
  "kernelspec": {
   "display_name": "Python 3",
   "language": "python",
   "name": "python3"
  },
  "language_info": {
   "codemirror_mode": {
    "name": "ipython",
    "version": 3
   },
   "file_extension": ".py",
   "mimetype": "text/x-python",
   "name": "python",
   "nbconvert_exporter": "python",
   "pygments_lexer": "ipython3",
   "version": "3.8.5"
  }
 },
 "nbformat": 4,
 "nbformat_minor": 1
}
